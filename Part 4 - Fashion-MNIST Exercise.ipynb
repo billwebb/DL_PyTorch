{
 "cells": [
  {
   "cell_type": "markdown",
   "metadata": {},
   "source": [
    "# Classifying Fashion-MNIST\n",
    "\n",
    "Now it's your turn to build and train a neural network. You'll be using the [Fashion-MNIST dataset](https://github.com/zalandoresearch/fashion-mnist), a drop-in replacement for the MNIST dataset. MNIST is actually quite trivial with neural networks where you can easily achieve better than 97% accuracy. Fashion-MNIST is a set of 28x28 greyscale images of clothes. It's more complex than MNIST, so it's a better representation of the actual performance of your network, and a better representation of datasets you'll use in the real world.\n",
    "\n",
    "<img src='assets/fashion-mnist-sprite.png' width=500px>\n",
    "\n",
    "In this notebook, you'll build your own neural network. For the most part, you could just copy and paste the code from Part 3, but you wouldn't be learning. It's important for you to write the code yourself and get it to work. Feel free to consult the previous notebook though as you work through this.\n",
    "\n",
    "First off, let's load the dataset through torchvision."
   ]
  },
  {
   "cell_type": "code",
   "execution_count": 1,
   "metadata": {},
   "outputs": [],
   "source": [
    "import torch\n",
    "from torchvision import datasets, transforms\n",
    "import helper\n",
    "\n",
    "# Define a transform to normalize the data\n",
    "transform = transforms.Compose([transforms.ToTensor(),\n",
    "                                transforms.Normalize((0.5,), (0.5,))])\n",
    "# Download and load the training data\n",
    "trainset = datasets.FashionMNIST('F_MNIST_data/', download=True, train=True, transform=transform)\n",
    "trainloader = torch.utils.data.DataLoader(trainset, batch_size=64, shuffle=True)\n",
    "\n",
    "# Download and load the test data\n",
    "testset = datasets.FashionMNIST('F_MNIST_data/', download=True, train=False, transform=transform)\n",
    "testloader = torch.utils.data.DataLoader(testset, batch_size=64, shuffle=True)"
   ]
  },
  {
   "cell_type": "markdown",
   "metadata": {},
   "source": [
    "Here we can see one of the images."
   ]
  },
  {
   "cell_type": "code",
   "execution_count": 2,
   "metadata": {},
   "outputs": [
    {
     "name": "stdout",
     "output_type": "stream",
     "text": [
      "tensor([5, 4, 9, 5, 6, 1, 7, 7, 8, 9, 5, 7, 5, 6, 4, 0, 0, 0, 7, 0, 8, 5, 0, 2,\n",
      "        5, 9, 2, 4, 1, 2, 6, 8, 7, 0, 4, 2, 7, 7, 8, 1, 3, 6, 3, 1, 3, 4, 8, 5,\n",
      "        3, 4, 4, 7, 7, 3, 8, 8, 2, 8, 9, 2, 4, 5, 0, 3])\n"
     ]
    },
    {
     "data": {
      "image/png": "[encoded data removed]",
      "text/plain": [
       "<Figure size 432x288 with 1 Axes>"
      ]
     },
     "metadata": {
      "needs_background": "light"
     },
     "output_type": "display_data"
    }
   ],
   "source": [
    "image, label = next(iter(trainloader))\n",
    "helper.imshow(image[0,:]);\n",
    "print(label)"
   ]
  },
  {
   "cell_type": "markdown",
   "metadata": {},
   "source": [
    "With the data loaded, it's time to import the necessary packages."
   ]
  },
  {
   "cell_type": "code",
   "execution_count": 3,
   "metadata": {},
   "outputs": [],
   "source": [
    "%matplotlib inline\n",
    "%config InlineBackend.figure_format = 'retina'\n",
    "\n",
    "import matplotlib.pyplot as plt\n",
    "import numpy as np\n",
    "import time\n",
    "\n",
    "import torch\n",
    "from torch import nn\n",
    "from torch import optim\n",
    "import torch.nn.functional as F\n",
    "from torchvision import datasets, transforms\n",
    "\n",
    "import helper"
   ]
  },
  {
   "cell_type": "markdown",
   "metadata": {},
   "source": [
    "## Building the network\n",
    "\n",
    "Here you should define your network. As with MNIST, each image is 28x28 which is a total of 784 pixels, and there are 10 classes. You should include at least one hidden layer. We suggest you use ReLU activations for the layers and to return the logits from the forward pass. It's up to you how many layers you add and the size of those layers."
   ]
  },
  {
   "cell_type": "code",
   "execution_count": 4,
   "metadata": {},
   "outputs": [],
   "source": [
    "from collections import OrderedDict\n",
    "\n",
    "# Hyperparameters for our network\n",
    "input_size = 784\n",
    "hidden_sizes = [128, 64]\n",
    "output_size = 10\n",
    "\n",
    "# Build a feed-forward network\n",
    "model = nn.Sequential(OrderedDict([\n",
    "                      ('fc1', nn.Linear(input_size, hidden_sizes[0])),\n",
    "                      ('relu1', nn.ReLU()),\n",
    "                      ('fc2', nn.Linear(hidden_sizes[0], hidden_sizes[1])),\n",
    "                      ('relu2', nn.ReLU()),\n",
    "                      ('logits', nn.Linear(hidden_sizes[1], output_size))]))"
   ]
  },
  {
   "cell_type": "markdown",
   "metadata": {},
   "source": [
    "# Train the network\n",
    "\n",
    "Now you should create your network and train it. First you'll want to define [the criterion](http://pytorch.org/docs/master/nn.html#loss-functions) ( something like `nn.CrossEntropyLoss`) and [the optimizer](http://pytorch.org/docs/master/optim.html) (typically `optim.SGD` or `optim.Adam`).\n",
    "\n",
    "Then write the training code. Remember the training pass is a fairly straightforward process:\n",
    "\n",
    "* Make a forward pass through the network to get the logits \n",
    "* Use the logits to calculate the loss\n",
    "* Perform a backward pass through the network with `loss.backward()` to calculate the gradients\n",
    "* Take a step with the optimizer to update the weights\n",
    "\n",
    "By adjusting the hyperparameters (hidden units, learning rate, etc), you should be able to get the training loss below 0.4."
   ]
  },
  {
   "cell_type": "code",
   "execution_count": 5,
   "metadata": {},
   "outputs": [],
   "source": [
    "criterion = nn.CrossEntropyLoss()\n",
    "optimizer = optim.SGD(model.parameters(), lr=0.01)"
   ]
  },
  {
   "cell_type": "code",
   "execution_count": 6,
   "metadata": {},
   "outputs": [
    {
     "name": "stdout",
     "output_type": "stream",
     "text": [
      "Epoch: 1/3...  Loss: 2.2362\n",
      "Epoch: 1/3...  Loss: 4.3219\n",
      "Epoch: 1/3...  Loss: 6.1784\n",
      "Epoch: 1/3...  Loss: 7.7619\n",
      "Epoch: 1/3...  Loss: 9.1342\n",
      "Epoch: 1/3...  Loss: 10.3147\n",
      "Epoch: 1/3...  Loss: 11.3987\n",
      "Epoch: 1/3...  Loss: 12.3706\n",
      "Epoch: 1/3...  Loss: 13.2958\n",
      "Epoch: 1/3...  Loss: 14.1438\n",
      "Epoch: 1/3...  Loss: 14.9811\n",
      "Epoch: 1/3...  Loss: 15.7791\n",
      "Epoch: 1/3...  Loss: 16.5326\n",
      "Epoch: 1/3...  Loss: 17.2626\n",
      "Epoch: 1/3...  Loss: 17.9894\n",
      "Epoch: 1/3...  Loss: 18.7005\n",
      "Epoch: 1/3...  Loss: 19.4015\n",
      "Epoch: 1/3...  Loss: 20.0873\n",
      "Epoch: 1/3...  Loss: 20.7473\n",
      "Epoch: 1/3...  Loss: 21.3735\n",
      "Epoch: 1/3...  Loss: 22.0215\n",
      "Epoch: 1/3...  Loss: 22.6758\n",
      "Epoch: 1/3...  Loss: 23.3164\n",
      "Epoch: 2/3...  Loss: 0.3469\n",
      "Epoch: 2/3...  Loss: 0.9592\n",
      "Epoch: 2/3...  Loss: 1.5666\n",
      "Epoch: 2/3...  Loss: 2.1534\n",
      "Epoch: 2/3...  Loss: 2.7148\n",
      "Epoch: 2/3...  Loss: 3.2971\n",
      "Epoch: 2/3...  Loss: 3.8932\n",
      "Epoch: 2/3...  Loss: 4.4681\n",
      "Epoch: 2/3...  Loss: 5.0270\n",
      "Epoch: 2/3...  Loss: 5.5989\n",
      "Epoch: 2/3...  Loss: 6.2036\n",
      "Epoch: 2/3...  Loss: 6.7544\n",
      "Epoch: 2/3...  Loss: 7.3162\n",
      "Epoch: 2/3...  Loss: 7.8897\n",
      "Epoch: 2/3...  Loss: 8.4199\n",
      "Epoch: 2/3...  Loss: 8.9684\n",
      "Epoch: 2/3...  Loss: 9.5035\n",
      "Epoch: 2/3...  Loss: 10.0454\n",
      "Epoch: 2/3...  Loss: 10.5481\n",
      "Epoch: 2/3...  Loss: 11.0659\n",
      "Epoch: 2/3...  Loss: 11.5922\n",
      "Epoch: 2/3...  Loss: 12.1243\n",
      "Epoch: 2/3...  Loss: 12.6325\n",
      "Epoch: 3/3...  Loss: 0.0519\n",
      "Epoch: 3/3...  Loss: 0.5216\n",
      "Epoch: 3/3...  Loss: 1.0668\n",
      "Epoch: 3/3...  Loss: 1.5569\n",
      "Epoch: 3/3...  Loss: 2.0610\n",
      "Epoch: 3/3...  Loss: 2.5866\n",
      "Epoch: 3/3...  Loss: 3.1107\n",
      "Epoch: 3/3...  Loss: 3.5975\n",
      "Epoch: 3/3...  Loss: 4.1146\n",
      "Epoch: 3/3...  Loss: 4.5899\n",
      "Epoch: 3/3...  Loss: 5.1190\n",
      "Epoch: 3/3...  Loss: 5.6050\n",
      "Epoch: 3/3...  Loss: 6.0782\n",
      "Epoch: 3/3...  Loss: 6.5632\n",
      "Epoch: 3/3...  Loss: 7.0397\n",
      "Epoch: 3/3...  Loss: 7.5329\n",
      "Epoch: 3/3...  Loss: 8.0258\n",
      "Epoch: 3/3...  Loss: 8.5047\n",
      "Epoch: 3/3...  Loss: 8.9990\n",
      "Epoch: 3/3...  Loss: 9.4407\n",
      "Epoch: 3/3...  Loss: 9.9327\n",
      "Epoch: 3/3...  Loss: 10.3941\n",
      "Epoch: 3/3...  Loss: 10.8860\n",
      "Epoch: 3/3...  Loss: 11.3600\n"
     ]
    }
   ],
   "source": [
    "epochs = 3\n",
    "print_every = 40\n",
    "steps = 0\n",
    "for e in range(epochs):\n",
    "    running_loss = 0\n",
    "    for images, labels in iter(trainloader):\n",
    "        steps += 1\n",
    "        # Flatten MNIST images into a 784 long vector\n",
    "        images.resize_(images.size()[0], 784)\n",
    "        \n",
    "        optimizer.zero_grad()\n",
    "        \n",
    "        # Forward and backward passes\n",
    "        output = model.forward(images)\n",
    "        loss = criterion(output, labels)\n",
    "        loss.backward()\n",
    "        optimizer.step()\n",
    "        \n",
    "        running_loss += loss.item()\n",
    "        \n",
    "        if steps % print_every == 0:\n",
    "            print(\"Epoch: {}/{}... \".format(e+1, epochs),\n",
    "                  \"Loss: {:.4f}\".format(running_loss/print_every))\n",
    "            "
   ]
  },
  {
   "cell_type": "code",
   "execution_count": 8,
   "metadata": {},
   "outputs": [
    {
     "data": {
      "image/png": "[encoded data removed]",
      "text/plain": [
       "<Figure size 432x648 with 2 Axes>"
      ]
     },
     "metadata": {
      "image/png": {
       "height": 206,
       "width": 423
      },
      "needs_background": "light"
     },
     "output_type": "display_data"
    }
   ],
   "source": [
    "# Test out your network!\n",
    "\n",
    "dataiter = iter(testloader)\n",
    "images, labels = dataiter.next()\n",
    "img = images[0]\n",
    "# Convert 2D image to 1D vector\n",
    "img = img.resize_(1, 784)\n",
    "\n",
    "# TODO: Calculate the class probabilities (softmax) for img\n",
    "with torch.no_grad():\n",
    "    logits = model.forward(img)\n",
    "ps = F.softmax(logits, dim=1)\n",
    "\n",
    "# Plot the image and probabilities\n",
    "helper.view_classify(img.resize_(1, 28, 28), ps, version='Fashion')"
   ]
  },
  {
   "cell_type": "markdown",
   "metadata": {},
   "source": [
    "Now that your network is trained, you'll want to save it to disk so you can load it later instead of training it again. Obviously, it's impractical to train a network every time you need one. In practice, you'll train it once, save the model, then reload it for further training or making predictions. In the next part, I'll show you how to save and load trained models."
   ]
  }
 ],
 "metadata": {
  "kernelspec": {
   "display_name": "Python 3",
   "language": "python",
   "name": "python3"
  },
  "language_info": {
   "codemirror_mode": {
    "name": "ipython",
    "version": 3
   },
   "file_extension": ".py",
   "mimetype": "text/x-python",
   "name": "python",
   "nbconvert_exporter": "python",
   "pygments_lexer": "ipython3",
   "version": "3.6.7"
  }
 },
 "nbformat": 4,
 "nbformat_minor": 2
}
